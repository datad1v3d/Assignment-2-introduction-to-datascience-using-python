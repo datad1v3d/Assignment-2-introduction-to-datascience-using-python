{
 "cells": [
  {
   "cell_type": "code",
   "execution_count": null,
   "id": "210be3ad",
   "metadata": {},
   "outputs": [],
   "source": [
    "Question 1\n",
    "Write a function called proportion_of_education which returns the proportion of children in the dataset who had a mother with the education levels equal to less than high school (<12), high school (12), more than high school but not a college graduate (>12) and college degree.\n",
    "\n",
    "This function should return a dictionary in the form of (use the correct numbers, do not round numbers):\n",
    "\n",
    "    {\"less than high school\":0.2,\n",
    "    \"high school\":0.4,\n",
    "    \"more than high school but not college\":0.2,\n",
    "    \"college\":0.2}\n",
    "    "
   ]
  },
  {
   "cell_type": "code",
   "execution_count": 1,
   "id": "166ab2ef",
   "metadata": {},
   "outputs": [
    {
     "data": {
      "text/plain": [
       "{'less than high school': 0.10202002459160373,\n",
       " 'high school': 0.172352011241876,\n",
       " 'more than high school but not college': 0.24588090637625154,\n",
       " 'college': 0.47974705779026877}"
      ]
     },
     "execution_count": 1,
     "metadata": {},
     "output_type": "execute_result"
    }
   ],
   "source": [
    "import pandas as pd \n",
    "import numpy as np\n",
    "def proportion_of_education():\n",
    "    df = pd.read_csv('NISPUF17.csv', index_col = 0)\n",
    "    row = df['EDUC1']\n",
    "    edus = np.sort(row.values)\n",
    "    result = {\"less than high school\": 0,\n",
    "           \"high school\": 0, \n",
    "          \"more than high school but not college\": 0, \n",
    "          \"college\": 0}\n",
    "    n = len(edus)\n",
    "    result[\"less than high school\"]=  np.sum(edus == 1)/ n \n",
    "    result[\"high school\"] = np.sum(edus == 2)/n \n",
    "    result[\"more than high school but not college\"] = np.sum(edus == 3)/n\n",
    "    result[\"college\"]= np.sum(edus == 4)/n\n",
    "    return result\n",
    "proportion_of_education()"
   ]
  },
  {
   "cell_type": "code",
   "execution_count": null,
   "id": "69b69703",
   "metadata": {},
   "outputs": [],
   "source": [
    "Question 2\n",
    "Let's explore the relationship between being fed breastmilk as a child and getting a seasonal influenza vaccine from a healthcare provider. Return a tuple of the average number of influenza vaccines for those children we know received breastmilk as a child and those who know did not.\n",
    "\n",
    "This function should return a tuple in the form (use the correct numbers:\n",
    "\n",
    "(2.5, 0.1)"
   ]
  },
  {
   "cell_type": "code",
   "execution_count": 3,
   "id": "91bf0e16",
   "metadata": {},
   "outputs": [
    {
     "data": {
      "text/plain": [
       "(1.8799187420058687, 1.5963945918878317)"
      ]
     },
     "execution_count": 3,
     "metadata": {},
     "output_type": "execute_result"
    }
   ],
   "source": [
    "def average_influenza_doses():\n",
    "    df = pd.read_csv('NISPUF17.csv', index_col = 0)\n",
    "    columns = ['P_NUMFLU', 'CBF_01']\n",
    "    df = df[columns].dropna()\n",
    "    breastfed = df[df['CBF_01']==1]\n",
    "    vaccine_number = (breastfed['P_NUMFLU'])\n",
    "    total_number = len(vaccine_number)\n",
    "    total = np.sum(vaccine_number)\n",
    "    average1 = total/total_number\n",
    "    not_breastfed = df[df['CBF_01']==2]\n",
    "    vaccine_number2 = (not_breastfed['P_NUMFLU'])\n",
    "    total_number2 = len(vaccine_number2)\n",
    "    total2 = np.sum(vaccine_number2)\n",
    "    average2 = (total2/total_number2)\n",
    "    result = (average1, average2)\n",
    "    return result\n",
    "average_influenza_doses()"
   ]
  },
  {
   "cell_type": "code",
   "execution_count": null,
   "id": "932f0ac8",
   "metadata": {},
   "outputs": [],
   "source": [
    "Question 3\n",
    "It would be interesting to see if there is any evidence of a link between vaccine effectiveness and sex of the child. Calculate the ratio of the number of children who contracted chickenpox but were vaccinated against it (at least one varicella dose) versus those who were vaccinated but did not contract chicken pox. Return results by sex.\n",
    "\n",
    "This function should return a dictionary in the form of (use the correct numbers):\n",
    "\n",
    "    {\"male\":0.2,\n",
    "    \"female\":0.4}\n",
    "Note: To aid in verification, the chickenpox_by_sex()['female'] value the autograder is looking for starts with the digits 0.0077.\n",
    "\n"
   ]
  },
  {
   "cell_type": "code",
   "execution_count": 5,
   "id": "e7d54862",
   "metadata": {},
   "outputs": [
    {
     "data": {
      "text/plain": [
       "{'male': 0.009675583380762664, 'female': 0.0077918259335489565}"
      ]
     },
     "execution_count": 5,
     "metadata": {},
     "output_type": "execute_result"
    }
   ],
   "source": [
    "def chickenpox_by_sex():\n",
    "    df = pd.read_csv('NISPUF17.csv', index_col = 0)\n",
    "    columns = ['SEX', 'HAD_CPOX', 'P_NUMVRC']\n",
    "    maindf = df[columns].dropna()\n",
    "    answer = {\"male\": 0,\n",
    "              \"female\":0}\n",
    "    infected_vaccinated_females = maindf.query('SEX ==2 & P_NUMVRC >= 1.0 & HAD_CPOX ==1')\n",
    "    not_infected_vaccinated_females = maindf.query('SEX ==2 & P_NUMVRC >= 1.0 & HAD_CPOX ==2')\n",
    "    female_ratio = len(infected_vaccinated_females)/len(not_infected_vaccinated_females)\n",
    "    infected_vaccinated_males = maindf.query('SEX == 1 & P_NUMVRC >= 1.0 & HAD_CPOX ==1')\n",
    "    not_infected_vaccinated_males = maindf.query('SEX ==1 & P_NUMVRC >= 1.0 & HAD_CPOX ==2')\n",
    "    male_ratio = len(infected_vaccinated_males)/len(not_infected_vaccinated_males)\n",
    "    answer['male']= male_ratio\n",
    "    answer['female']= female_ratio\n",
    "    return answer\n",
    "chickenpox_by_sex()"
   ]
  },
  {
   "cell_type": "code",
   "execution_count": null,
   "id": "a72663b6",
   "metadata": {},
   "outputs": [],
   "source": [
    "Question 4\n",
    "A correlation is a statistical relationship between two variables. If we wanted to know if vaccines work, we might look at the correlation between the use of the vaccine and whether it results in prevention of the infection or disease [1]. In this question, you are to see if there is a correlation between having had the chicken pox and the number of chickenpox vaccine doses given (varicella).\n",
    "\n",
    "Some notes on interpreting the answer. The had_chickenpox_column is either 1 (for yes) or 2 (for no), and the num_chickenpox_vaccine_column is the number of doses a child has been given of the varicella vaccine. A positive correlation (e.g., corr > 0) means that an increase in had_chickenpox_column (which means more no’s) would also increase the values of num_chickenpox_vaccine_column (which means more doses of vaccine). If there is a negative correlation (e.g., corr < 0), it indicates that having had chickenpox is related to an increase in the number of vaccine doses.\n",
    "\n",
    "Also, pval is the probability that we observe a correlation between had_chickenpox_column and num_chickenpox_vaccine_column which is greater than or equal to a particular value occurred by chance. A small pval means that the observed correlation is highly unlikely to occur by chance. In this case, pval should be very small (will end in e-18 indicating a very small number).\n",
    "\n",
    "[1] This isn’t really the full picture, since we are not looking at when the dose was given. It’s possible that children had chickenpox and then their parents went to get them the vaccine. Does this dataset have the data we would need to investigate the timing of the dose?\n"
   ]
  },
  {
   "cell_type": "code",
   "execution_count": 8,
   "id": "7d4b320e",
   "metadata": {},
   "outputs": [
    {
     "data": {
      "text/plain": [
       "0.07044873460148018"
      ]
     },
     "execution_count": 8,
     "metadata": {},
     "output_type": "execute_result"
    }
   ],
   "source": [
    "def corr_chickenpox():\n",
    "    import scipy.stats as stats\n",
    "    import numpy as np\n",
    "    import pandas as pd\n",
    "    \n",
    "    # this is just an example dataframe\n",
    "    df = pd.read_csv('NISPUF17.csv', index_col = 0)\n",
    "    columns = ['HAD_CPOX', 'P_NUMVRC']\n",
    "    maindf = df[columns].dropna()\n",
    "    maindf = maindf[maindf['HAD_CPOX']<=2]\n",
    " # here is some stub code to actually run the correlation\n",
    "    corr, pval=stats.pearsonr(maindf[\"HAD_CPOX\"],maindf[\"P_NUMVRC\"])\n",
    "\n",
    "    # just return the correlation\n",
    "    return corr\n",
    "corr_chickenpox()\n",
    "    # YOUR CODE HERE\n",
    "    #raise NotImplementedError()"
   ]
  }
 ],
 "metadata": {
  "kernelspec": {
   "display_name": "Python 3 (ipykernel)",
   "language": "python",
   "name": "python3"
  },
  "language_info": {
   "codemirror_mode": {
    "name": "ipython",
    "version": 3
   },
   "file_extension": ".py",
   "mimetype": "text/x-python",
   "name": "python",
   "nbconvert_exporter": "python",
   "pygments_lexer": "ipython3",
   "version": "3.9.7"
  }
 },
 "nbformat": 4,
 "nbformat_minor": 5
}
